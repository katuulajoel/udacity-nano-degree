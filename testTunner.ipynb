{
 "cells": [
  {
   "cell_type": "code",
   "execution_count": null,
   "metadata": {},
   "outputs": [],
   "source": [
    "import sagemaker\n",
    "from sagemaker.sklearn.estimator import SKLearn\n",
    "from sagemaker.tuner import IntegerParameter, HyperparameterTuner\n",
    "\n",
    "# The processing job will start and SageMaker will handle the rest. You can monitor the job status in the SageMaker console.\n",
    "\n",
    "# Initialize SageMaker session and role\n",
    "sagemaker_session = sagemaker.Session()\n",
    "role = 'arn:aws:iam::863397112005:role/service-role/AmazonSageMaker-ExecutionRole-20231109T153131'\n",
    "\n",
    "# Define the estimator\n",
    "estimator = SKLearn(\n",
    "    entry_point='sklearn-random-forest-hpo.py',\n",
    "    instance_type='ml.c5.2xlarge',\n",
    "    framework_version='0.23-1',\n",
    "    role=role,\n",
    "    sagemaker_session=sagemaker_session\n",
    ")\n",
    "\n",
    "# Define hyperparameter ranges\n",
    "hyperparameter_ranges = {\n",
    "    'n_estimators': IntegerParameter(100, 200),\n",
    "    'max_depth': IntegerParameter(3, 10),\n",
    "    'min_samples_split': IntegerParameter(2, 10),\n",
    "}\n",
    "\n",
    "# Define the objective metric name and type\n",
    "objective_metric_name = 'test:f1-score'\n",
    "objective_type = 'Maximize'\n",
    "\n",
    "# Define metric definitions\n",
    "metrics_definitions = [\n",
    "    {\"Name\": \"test:f1-score\", \"Regex\": \"test:f1-score: ([0-9\\\\.]+)\"}\n",
    "]\n",
    "\n",
    "# Initialize hyperparameter tuner\n",
    "tuner = HyperparameterTuner(\n",
    "    estimator=estimator,\n",
    "    objective_metric_name=objective_metric_name,\n",
    "    hyperparameter_ranges=hyperparameter_ranges,\n",
    "    metric_definitions=metrics_definitions,\n",
    "    max_jobs=2,\n",
    "    max_parallel_jobs=1,\n",
    "    objective_type=objective_type\n",
    ")\n",
    "\n",
    "tuner.fit({'train': 's3://sagemaker-us-east-1-863397112005/fraud-pipeline-1700393590/jf5qiebe21g1/Processing/output/fraud-train/', \n",
    "           'test': 's3://sagemaker-us-east-1-863397112005/fraud-pipeline-1700393590/jf5qiebe21g1/Processing/output/fraud-test/'})\n"
   ]
  }
 ],
 "metadata": {
  "kernelspec": {
   "display_name": "Python 3 (ipykernel)",
   "language": "python",
   "name": "python3"
  }
 },
 "nbformat": 4,
 "nbformat_minor": 2
}
