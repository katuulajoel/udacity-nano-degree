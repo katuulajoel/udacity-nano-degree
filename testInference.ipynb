{
 "cells": [
  {
   "cell_type": "code",
   "execution_count": 15,
   "metadata": {},
   "outputs": [
    {
     "name": "stdout",
     "output_type": "stream",
     "text": [
      "sagemaker.config INFO - Not applying SDK defaults from location: /Library/Application Support/sagemaker/config.yaml\n",
      "sagemaker.config INFO - Not applying SDK defaults from location: /Users/zenysisaccount/Library/Application Support/sagemaker/config.yaml\n",
      "sagemaker.config INFO - Not applying SDK defaults from location: /Library/Application Support/sagemaker/config.yaml\n",
      "sagemaker.config INFO - Not applying SDK defaults from location: /Users/zenysisaccount/Library/Application Support/sagemaker/config.yaml\n",
      "----!"
     ]
    }
   ],
   "source": [
    "import sagemaker\n",
    "from sagemaker.sklearn.model import SKLearnModel\n",
    "\n",
    "# Define the S3 URI where your trained model is stored\n",
    "model_data_s3_uri = 's3://sagemaker-us-east-1-863397112005/pipelines-ysvx53dcdoe1-Train-gLbnaOeZDA/output/model.tar.gz'\n",
    "\n",
    "# Define your IAM role\n",
    "# role = 'arn:aws:iam::<account-id>:role/service-role/AmazonSageMaker-ExecutionRole-<YYYYMMDDT>'  # Replace with your role\n",
    "role = 'arn:aws:iam::863397112005:role/service-role/AmazonSageMaker-ExecutionRole-20231109T153131'\n",
    "\n",
    "# Create a SKLearnModel object\n",
    "sklearn_model = SKLearnModel(\n",
    "    model_data=model_data_s3_uri,\n",
    "    role=role,\n",
    "    entry_point='inference.py',  # Your inference script\n",
    "    framework_version='0.23-1',  # The Scikit-Learn version you used\n",
    "    py_version='py3'             # Python version\n",
    ")\n",
    "\n",
    "# Deploy the model to an endpoint\n",
    "predictor = sklearn_model.deploy(\n",
    "    initial_instance_count=1,\n",
    "    instance_type='ml.m5.large'  # Choose the appropriate instance type\n",
    ")\n",
    "\n",
    "# You can now use predictor to perform inference\n"
   ]
  }
 ],
 "metadata": {
  "kernelspec": {
   "display_name": "Python 3 (ipykernel)",
   "language": "python",
   "name": "python3"
  }
 },
 "nbformat": 4,
 "nbformat_minor": 2
}
