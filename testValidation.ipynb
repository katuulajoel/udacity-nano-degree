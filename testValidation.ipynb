{
 "cells": [
  {
   "cell_type": "code",
   "execution_count": 3,
   "metadata": {},
   "outputs": [
    {
     "name": "stderr",
     "output_type": "stream",
     "text": [
      "INFO:botocore.credentials:Found credentials in shared credentials file: ~/.aws/credentials\n"
     ]
    },
    {
     "name": "stdout",
     "output_type": "stream",
     "text": [
      "sagemaker.config INFO - Not applying SDK defaults from location: /Library/Application Support/sagemaker/config.yaml\n",
      "sagemaker.config INFO - Not applying SDK defaults from location: /Users/zenysisaccount/Library/Application Support/sagemaker/config.yaml\n"
     ]
    },
    {
     "name": "stderr",
     "output_type": "stream",
     "text": [
      "INFO:sagemaker.image_uris:Defaulting to only available Python version: py3\n",
      "INFO:sagemaker:Creating processing-job with name sklearn-fraud-detection-job-2023-11-19-20-34-09-115\n"
     ]
    },
    {
     "name": "stdout",
     "output_type": "stream",
     "text": [
      "........................\u001b[34m['model.joblib', 'classification_report.txt', 'model.tar.gz']\u001b[0m\n",
      "\u001b[34mEvaluation metrics saved to: /opt/ml/processing/output/metrics/evaluation.json\u001b[0m\n",
      "\n"
     ]
    }
   ],
   "source": [
    "import sagemaker\n",
    "from sagemaker.sklearn.processing import SKLearnProcessor\n",
    "from sagemaker.processing import ProcessingInput, ProcessingOutput\n",
    "\n",
    "# Initialize a SageMaker session\n",
    "sagemaker_session = sagemaker.Session()\n",
    "\n",
    "# Specify the SageMaker execution role\n",
    "role = 'arn:aws:iam::863397112005:role/service-role/AmazonSageMaker-ExecutionRole-20231109T153131'\n",
    "\n",
    "# Define the SageMaker Scikit-learn Processor\n",
    "sklearn_processor = SKLearnProcessor(\n",
    "    framework_version='0.23-1',\n",
    "    role=role,\n",
    "    instance_type='ml.m5.large',\n",
    "    instance_count=1,\n",
    "    base_job_name='sklearn-fraud-detection-job',\n",
    "    sagemaker_session=sagemaker_session\n",
    ")\n",
    "\n",
    "# Path to the S3 location of the preprocessing script\n",
    "preprocessing_script_uri = 'evaluate_model_metrics.py';\n",
    "\n",
    "# Input and output data configuration\n",
    "input_data_config = [\n",
    "    ProcessingInput(\n",
    "        source='s3://sagemaker-us-east-1-863397112005/pipelines-ysvx53dcdoe1-Train-gLbnaOeZDA/output/model.tar.gz',\n",
    "        destination='/opt/ml/processing/input/model',\n",
    "        input_name='model input'\n",
    "    ),\n",
    "    ProcessingInput( \n",
    "        source='s3://sagemaker-us-east-1-863397112005/fraud-pipeline-1700421448/ysvx53dcdoe1/Processing/output/fraud-validation',\n",
    "        destination=\"/opt/ml/processing/input/data\",\n",
    "        input_name='data input'\n",
    "    )\n",
    "]\n",
    "\n",
    "output_data_config = [\n",
    "    ProcessingOutput(\n",
    "        output_name=\"metrics\", s3_upload_mode=\"EndOfJob\", source=\"/opt/ml/processing/output/metrics/\"\n",
    "    ),\n",
    "]\n",
    "\n",
    "# Running the processing job\n",
    "sklearn_processor.run(\n",
    "    code=preprocessing_script_uri,\n",
    "    inputs=input_data_config,\n",
    "    outputs=output_data_config\n",
    ")\n",
    "\n",
    "# The processing job will start and SageMaker will handle the rest. You can monitor the job status in the SageMaker console.\n"
   ]
  }
 ],
 "metadata": {
  "kernelspec": {
   "display_name": "Python 3 (ipykernel)",
   "language": "python",
   "name": "python3"
  }
 },
 "nbformat": 4,
 "nbformat_minor": 2
}
